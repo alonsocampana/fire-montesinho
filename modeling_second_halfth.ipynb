{
 "cells": [
  {
   "cell_type": "code",
   "execution_count": 1,
   "id": "e949c080-fbce-4a52-9bf7-a2576f8ad327",
   "metadata": {},
   "outputs": [],
   "source": [
    "import sys\n",
    "sys.path.insert(1, './imports')\n",
    "import numpy as np\n",
    "import pandas as pd\n",
    "import matplotlib.pyplot as plt\n",
    "import seaborn as sns\n",
    "import pickle\n",
    "from exploratory_analysis import *\n",
    "from preprocessing import *\n",
    "from model_selection import *\n",
    "from model_end_to_end import *\n",
    "from sklearn.ensemble import RandomForestRegressor\n",
    "from sklearn.ensemble import RandomForestClassifier\n",
    "from sklearn.ensemble import GradientBoostingClassifier\n",
    "from sklearn.ensemble import GradientBoostingRegressor\n",
    "from sklearn.svm import SVC\n",
    "from sklearn.model_selection import RepeatedStratifiedKFold\n",
    "from sklearn.model_selection import train_test_split\n",
    "from sklearn.model_selection import cross_val_score\n",
    "from sklearn.metrics import accuracy_score\n",
    "pd.options.display.max_rows = 30"
   ]
  },
  {
   "cell_type": "markdown",
   "id": "ceb88ef2-cbdc-4ef4-bda9-c95b589bf608",
   "metadata": {},
   "source": [
    "# X $\\in$ [1, 5]"
   ]
  },
  {
   "cell_type": "markdown",
   "id": "70f9fd6c-4928-4c6d-b313-714910a9eb09",
   "metadata": {},
   "source": [
    "## Classifier"
   ]
  },
  {
   "cell_type": "code",
   "execution_count": 2,
   "id": "8a1640b2-c981-4a99-a25a-32b3c72d436a",
   "metadata": {},
   "outputs": [],
   "source": [
    "fires_jun_15 = pd.read_csv(\"fires_jun_dec_xy15.csv\")\n",
    "drop_cols = ['Unnamed: 0', 'area_bool']\n",
    "X = fires_jun_15.drop(drop_cols, axis=1)\n",
    "y = fires_jun_15.loc[:,\"area_bool\"]\n",
    "X_train, X_test, y_train, y_test = train_test_split(X, y, test_size=0.33, random_state=3558)\n",
    "X_test_with_area = X_test.copy()\n",
    "X_test = X_test.drop(\"area\", axis=1)\n",
    "X_with_area = X.copy()\n",
    "X = X.drop(\"area\", axis=1)\n",
    "X_train_with_area = X_train.copy()\n",
    "X_train = X_train.drop(\"area\", axis=1)\n",
    "filter_15 = y==1"
   ]
  },
  {
   "cell_type": "code",
   "execution_count": 3,
   "id": "d9a5ea7b-17e0-4311-a2e1-0d75b957ba23",
   "metadata": {},
   "outputs": [
    {
     "name": "stdout",
     "output_type": "stream",
     "text": [
      "linear\n",
      "rbf\n",
      "poly\n"
     ]
    }
   ],
   "source": [
    "areas_burnt_kernels, test_accuracies_kernels = select_kernel_kcross(X, X_with_area, y, repeats=3)"
   ]
  },
  {
   "cell_type": "code",
   "execution_count": 4,
   "id": "ac4e0758-7ca9-4bbb-8c4a-abbc98dadea5",
   "metadata": {},
   "outputs": [],
   "source": [
    "areas_burnt_gammas, test_accuracies_gamma = select_gamma_kcross(X, X_with_area, y, -10, 3)"
   ]
  },
  {
   "cell_type": "code",
   "execution_count": 5,
   "id": "7f47b78b-1533-4a7b-b9fe-f9fadcc63979",
   "metadata": {},
   "outputs": [],
   "source": [
    "areas_burnt_gammas_refinement, test_accuracies_gammas_refinement = select_gamma_kcross(X, X_with_area, y, 1, 3)"
   ]
  },
  {
   "cell_type": "markdown",
   "id": "334cf4b6-33f2-4afd-87af-b858ce4f8737",
   "metadata": {},
   "source": [
    "local minima on area burnt around gamma = 50"
   ]
  },
  {
   "cell_type": "code",
   "execution_count": 6,
   "id": "f0464be0-bce4-4a3b-9191-80c916baa60f",
   "metadata": {},
   "outputs": [],
   "source": [
    "areas_burnt_c, test_accuracies_c = select_c_kcross(X, X_with_area, y, gamma = 50)"
   ]
  },
  {
   "cell_type": "markdown",
   "id": "3d885daa-89ac-454c-9925-f6cc6ab191c4",
   "metadata": {},
   "source": [
    "Almost all entries classified as 0, but low associated number of false negatives. Lots of redundant values of C"
   ]
  },
  {
   "cell_type": "code",
   "execution_count": 7,
   "id": "f078e976-84c6-4ae4-92b1-ef7ee5614fc1",
   "metadata": {},
   "outputs": [
    {
     "data": {
      "text/plain": [
       "SVC(C=10, gamma=50)"
      ]
     },
     "execution_count": 7,
     "metadata": {},
     "output_type": "execute_result"
    }
   ],
   "source": [
    "rfc_jun_15 = SVC(kernel='rbf', gamma = 50, C = 10)\n",
    "rfc_jun_15.fit(X, y)"
   ]
  },
  {
   "cell_type": "code",
   "execution_count": 8,
   "id": "056f09e8-5f0a-4ea0-b2f0-457a38566c14",
   "metadata": {},
   "outputs": [],
   "source": [
    "with open(\"classification_jun_dec_15.pickle\", 'wb') as f:\n",
    "    pickle.dump(rfc_jun_15, f)"
   ]
  },
  {
   "cell_type": "markdown",
   "id": "0495439b-a7ae-4bcd-82bb-eea8e16c9956",
   "metadata": {},
   "source": [
    "Searching the model space for the highest accuracy:"
   ]
  },
  {
   "cell_type": "code",
   "execution_count": 9,
   "id": "ac210f3d-6754-4bd5-82d0-cd8824788008",
   "metadata": {},
   "outputs": [
    {
     "name": "stderr",
     "output_type": "stream",
     "text": [
      "/home/pedroac/.local/lib/python3.8/site-packages/skopt/optimizer/optimizer.py:449: UserWarning: The objective has been evaluated at this point before.\n",
      "  warnings.warn(\"The objective has been evaluated \"\n"
     ]
    }
   ],
   "source": [
    "result = SVM_hyperpar_skopt(X, y, kernels=['linear', 'poly', 'rbf', 'sigmoid'], max_degree = 3)"
   ]
  },
  {
   "cell_type": "code",
   "execution_count": 10,
   "id": "da2fc318-5452-433a-9ee3-b419d71095e5",
   "metadata": {},
   "outputs": [
    {
     "name": "stdout",
     "output_type": "stream",
     "text": [
      "accuracy of  0.6114 with associated parameters  [8.41850316809234, 'linear', 3, 0.04349773501643578]\n"
     ]
    }
   ],
   "source": [
    "print(\"accuracy of \", 1 - result.fun, \"with associated parameters \", result.x)"
   ]
  },
  {
   "cell_type": "code",
   "execution_count": 11,
   "id": "d3b78302-75cb-4559-b26a-d21afe0d34ef",
   "metadata": {},
   "outputs": [
    {
     "data": {
      "text/plain": [
       "SVC(C=8.41850316809234, gamma=0.04349773501643578, kernel='linear')"
      ]
     },
     "execution_count": 11,
     "metadata": {},
     "output_type": "execute_result"
    }
   ],
   "source": [
    "rfc_jun_15_skopt = SVC(C = result.x[0], kernel=result.x[1],degree = result.x[2], gamma = result.x[3])\n",
    "rfc_jun_15_skopt.fit(X, y)"
   ]
  },
  {
   "cell_type": "code",
   "execution_count": 12,
   "id": "6d69cc1f-ab06-45bb-954f-d61454ba3561",
   "metadata": {},
   "outputs": [],
   "source": [
    "with open(\"classification_jun_dec_15_skopt.pickle\", 'wb') as f:\n",
    "    pickle.dump(rfc_jun_15_skopt, f)"
   ]
  },
  {
   "cell_type": "markdown",
   "id": "d089ce9d-03cc-49f1-a8a5-f82e04d86754",
   "metadata": {},
   "source": [
    "## Regressor"
   ]
  },
  {
   "cell_type": "code",
   "execution_count": 13,
   "id": "940bceb5-6e96-4016-8096-e519683fb37d",
   "metadata": {},
   "outputs": [],
   "source": [
    "X = X[filter_15]\n",
    "y = fires_jun_15.loc[:,\"area\"][filter_15]\n",
    "losses_lasso_df1 = hyperpar_grid_lasso(X, y, degrees = [1, 2, 3])\n",
    "losses_ridge_df1 = hyperpar_grid_ridge(X, y, degrees = [1, 2, 3])\n",
    "gbr_dict1 = hyper_opt_gbr(X, y)"
   ]
  },
  {
   "cell_type": "code",
   "execution_count": 14,
   "id": "c24f3fdc-8ee4-4543-85f1-34a1ca44b048",
   "metadata": {},
   "outputs": [
    {
     "name": "stdout",
     "output_type": "stream",
     "text": [
      "{'loss': 1180.7747924603523, 'deg': 1, 'lr': 0.46249999999999997, 'n_estimators': 20}\n"
     ]
    }
   ],
   "source": [
    "print(gbr_dict1)"
   ]
  },
  {
   "cell_type": "markdown",
   "id": "35b7a070-06c1-4f00-9e47-bb2d64e2c173",
   "metadata": {},
   "source": [
    "## X $\\in$ [6, 9]"
   ]
  },
  {
   "cell_type": "code",
   "execution_count": 15,
   "id": "4a4d68c2-517b-487a-98f4-99e6d2e6bbde",
   "metadata": {},
   "outputs": [],
   "source": [
    "fires_jun_69 = pd.read_csv(\"fires_jun_dec_xy69.csv\")\n",
    "drop_cols = ['Unnamed: 0', 'area_bool']\n",
    "X = fires_jun_69.drop(drop_cols, axis=1)\n",
    "y = fires_jun_69.loc[:,\"area_bool\"]\n",
    "X_train, X_test, y_train, y_test = train_test_split(X, y, test_size=0.33, random_state=3558)\n",
    "X_test_with_area = X_test.copy()\n",
    "X_test = X_test.drop(\"area\", axis=1)\n",
    "X_with_area = X.copy()\n",
    "X = X.drop(\"area\", axis=1)\n",
    "X_train_with_area = X_train.copy()\n",
    "X_train = X_train.drop(\"area\", axis=1)\n",
    "filter_69 = y==1"
   ]
  },
  {
   "cell_type": "code",
   "execution_count": 16,
   "id": "d0c34550-e79b-45a0-9c65-14870fb72a0d",
   "metadata": {},
   "outputs": [
    {
     "name": "stdout",
     "output_type": "stream",
     "text": [
      "linear\n",
      "rbf\n",
      "poly\n"
     ]
    }
   ],
   "source": [
    "areas_burnt_kernels, test_accuracies_kernels = select_kernel_kcross(X, X_with_area, y, repeats=3)"
   ]
  },
  {
   "cell_type": "code",
   "execution_count": 17,
   "id": "085519c5-972c-47a1-8b6a-fdaa4bf69062",
   "metadata": {},
   "outputs": [],
   "source": [
    "areas_burnt_gammas, test_accuracies_gamma = select_gamma_kcross(X, X_with_area, y, min_g=-6, max_g = 4)"
   ]
  },
  {
   "cell_type": "code",
   "execution_count": 18,
   "id": "c0a1b06b-ee11-4b3e-966e-d85b39435c24",
   "metadata": {},
   "outputs": [],
   "source": [
    "areas_burnt_c, test_accuracies_c = select_c_kcross(X, X_with_area, y, gamma=90)"
   ]
  },
  {
   "cell_type": "code",
   "execution_count": 19,
   "id": "f9bd4577-fb22-4ba5-85f6-d99786699aa5",
   "metadata": {},
   "outputs": [],
   "source": [
    "rfc_jun_69 = SVC(C=10.326154432909957, gamma=100.0, kernel='linear')\n",
    "rfc_jun_69.fit(X_train, y_train)\n",
    "with open(\"classification_jun_dec_69.pickle\", 'wb') as f:\n",
    "    pickle.dump(rfc_jun_69, f)"
   ]
  },
  {
   "cell_type": "markdown",
   "id": "951035f0-ec30-42b1-91c7-a6fe0c37a811",
   "metadata": {},
   "source": [
    "### Accuracy optimization using scikit optimize"
   ]
  },
  {
   "cell_type": "code",
   "execution_count": 20,
   "id": "11506d07-e2cd-43be-bc68-4cd2c68e9506",
   "metadata": {},
   "outputs": [
    {
     "name": "stdout",
     "output_type": "stream",
     "text": [
      "accuracy of  0.5988888888888888 with associated parameters  [0.26869573356106563, 'poly', 2, 0.9600363819999834]\n"
     ]
    }
   ],
   "source": [
    "result = SVM_hyperpar_skopt(X, y, kernels=['linear', 'poly', 'rbf', 'sigmoid'], max_degree = 3)\n",
    "print(\"accuracy of \", 1 - result.fun, \"with associated parameters \", result.x)"
   ]
  },
  {
   "cell_type": "code",
   "execution_count": 21,
   "id": "07a85790-731b-4c2e-aa7f-44aaf1f392f2",
   "metadata": {},
   "outputs": [
    {
     "data": {
      "text/plain": [
       "SVC(C=0.26869573356106563, degree=2, gamma=0.9600363819999834, kernel='poly')"
      ]
     },
     "execution_count": 21,
     "metadata": {},
     "output_type": "execute_result"
    }
   ],
   "source": [
    "rfc_jun_69_skopt = SVC(C = result.x[0], kernel=result.x[1],degree = result.x[2], gamma = result.x[3])\n",
    "rfc_jun_69_skopt.fit(X, y)"
   ]
  },
  {
   "cell_type": "code",
   "execution_count": 22,
   "id": "9e3fae39-124f-478e-b073-8ba4a6f58444",
   "metadata": {},
   "outputs": [],
   "source": [
    "with open(\"classification_jun_dec_69_skopt.pickle\", 'wb') as f:\n",
    "    pickle.dump(rfc_jun_69_skopt, f)"
   ]
  },
  {
   "cell_type": "markdown",
   "id": "3a98d6d7-bcf8-4581-8c8b-cc7af0a32e0e",
   "metadata": {},
   "source": [
    "### Regression"
   ]
  },
  {
   "cell_type": "code",
   "execution_count": 23,
   "id": "65ef4c6f-8700-4f9e-8943-30622ee3f0e8",
   "metadata": {},
   "outputs": [],
   "source": [
    "y = fires_jun_69.loc[:,\"area\"]\n",
    "losses_lasso_df2 = hyperpar_grid_lasso(X, y, degrees = [1, 2, 3])\n",
    "losses_ridge_df2 = hyperpar_grid_ridge(X, y, degrees = [1, 2, 3])\n",
    "gbr_dict2 = hyper_opt_gbr(X, y)"
   ]
  },
  {
   "cell_type": "code",
   "execution_count": 24,
   "id": "e940b5b8-ac16-41e3-a842-0efbb2674f57",
   "metadata": {},
   "outputs": [
    {
     "data": {
      "text/plain": [
       "{'loss': 10799.217352201546, 'deg': 3, 'lr': 0.6, 'n_estimators': 20}"
      ]
     },
     "execution_count": 24,
     "metadata": {},
     "output_type": "execute_result"
    }
   ],
   "source": [
    "gbr_dict2"
   ]
  },
  {
   "cell_type": "code",
   "execution_count": null,
   "id": "3145a28d-9883-4796-9373-c6db893c2c09",
   "metadata": {},
   "outputs": [],
   "source": []
  }
 ],
 "metadata": {
  "kernelspec": {
   "display_name": "Python 3",
   "language": "python",
   "name": "python3"
  },
  "language_info": {
   "codemirror_mode": {
    "name": "ipython",
    "version": 3
   },
   "file_extension": ".py",
   "mimetype": "text/x-python",
   "name": "python",
   "nbconvert_exporter": "python",
   "pygments_lexer": "ipython3",
   "version": "3.8.10"
  }
 },
 "nbformat": 4,
 "nbformat_minor": 5
}
