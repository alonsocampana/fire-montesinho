{
  "nbformat": 4,
  "nbformat_minor": 0,
  "metadata": {
    "colab": {
      "name": "Custom_SVM_Cutoff_squared_hinge.ipynb",
      "provenance": [],
      "authorship_tag": "ABX9TyMrEyrEAtdYBj5cCieuemq/",
      "include_colab_link": true
    },
    "kernelspec": {
      "name": "python3",
      "display_name": "Python 3"
    },
    "language_info": {
      "name": "python"
    }
  },
  "cells": [
    {
      "cell_type": "markdown",
      "metadata": {
        "id": "view-in-github",
        "colab_type": "text"
      },
      "source": [
        "<a href=\"https://colab.research.google.com/github/alonsocampana/fire-montesinho/blob/main/Custom_SVM_Cutoff_squared_hinge.ipynb\" target=\"_parent\"><img src=\"https://colab.research.google.com/assets/colab-badge.svg\" alt=\"Open In Colab\"/></a>"
      ]
    },
    {
      "cell_type": "code",
      "metadata": {
        "colab": {
          "base_uri": "https://localhost:8080/"
        },
        "id": "D3nV1Ek2hNIz",
        "outputId": "8482a090-1e5d-4627-ce48-bdc33e840784"
      },
      "source": [
        "import pandas as pd\n",
        "import numpy as np\n",
        "from scipy.optimize import minimize\n",
        "from sklearn.model_selection import KFold\n",
        "\n",
        "fires = pd.read_csv(\"fire_data_processed_after_pca.csv\")\n",
        "X = fires\n",
        "cut = 1\n",
        "y = np.exp(X.loc[:,\"area\"]) - 1\n",
        "X = X.drop(['Unnamed: 0', \"area\", \"area_bool\"], axis=1)\n",
        "feat_drop = ['apr_bool', '66', '73', '65', '74', '64', '75', '95', '63', '99', '84', '55', '13', 'aug_bool', '76', '43', '44', '85', 'rain', '94', 'oct_bool', '45', '33', 'nov_bool', 'feb_bool', '23',\n",
        " 'wed', 'mar_bool', 'fri', 'jun_bool', '14', 'tue', '24', '88', '46', 'sat']\n",
        "\n",
        "features_added = [[\"22\",\"sat\"], [\"wed\",\"pc5\"], [\"tue\",\"pc2\"], [\"94\", \"pc6\"], ['sep_bool','pc4']]\n",
        "  \n",
        "\n",
        "def add_feature(df, col1, col2):\n",
        "    df = df.copy()\n",
        "    new_name = col1 + \" * \" + col2\n",
        "    map_names = {\"col_name\":new_name}\n",
        "    return (df.assign(col_name = df.loc[:,col1] * df.loc[:,col2])).rename(map_names, axis=1)\n",
        "\n",
        "def l2(theta):\n",
        "    return theta@theta.T\n",
        "\n",
        "def exp_loss(weights, X, y):\n",
        "    return sum(np.exp(-y*(X@weights.T)))\n",
        "\n",
        "def hinge_loss(weights, X, y):\n",
        "    loss = (-(weights@X.T)+1) * np.sign(y) * (y**2)\n",
        "    loss[loss<0] = 0\n",
        "    return np.sum(loss)\n",
        "\n",
        "def objective(X, y, weights, lambd =0.5, loss = exp_loss, regularizer=l2):\n",
        "    return loss(weights, X, y) + lambd*regularizer(weights)\n",
        "\n",
        "for feat in features_added:\n",
        "    X = add_feature(X, feat[0], feat[1])\n",
        "X = X.drop(feat_drop, axis=1)\n",
        "\n",
        "regs = np.linspace(0.001, 3, 5)\n",
        "cutoffs = np.linspace(0.001, 2, 5)\n",
        "rskf = KFold(n_splits=4, shuffle=True,random_state=3558)\n",
        "dic = {}\n",
        "n = 0\n",
        "for r in regs:\n",
        "    for c in cutoffs:\n",
        "        n += 1\n",
        "        if n > 30:\n",
        "          break\n",
        "        success = 0\n",
        "        missclass = 0\n",
        "        burnt = 0\n",
        "        cum_par = np.zeros([1, X.shape[1]])\n",
        "        i = 0\n",
        "        splits = []\n",
        "        y_temp = y - c\n",
        "        for train_index, test_index in rskf.split(X, y):\n",
        "            X_train, X_test = X.iloc[train_index], X.iloc[test_index]\n",
        "            y_train, y_test = y_temp.iloc[train_index], y_temp.iloc[test_index]\n",
        "            x0 = np.random.rand(1, X_train.shape[1])\n",
        "            res = minimize(lambda weights: objective(X_train, y_train, weights, loss=hinge_loss), x0 = x0, method = 'Nelder-Mead')\n",
        "            if res.success:\n",
        "                print(\"success!\")\n",
        "                splits.append(i)\n",
        "                success += 1\n",
        "                pred = ((1-(X_test @ res.x)) < 0)\n",
        "                burnt += y[test_index][pred]\n",
        "                missclass += sum(pred* y_test <0)\n",
        "                cum_par += res.x\n",
        "            i+= 1\n",
        "        temp_str = \"R: \" + str(r) + \" Cut: \" + str(c)\n",
        "        if success != 0:\n",
        "          dic[temp_str] = {\"missclassified\": missclass/success, \"parameters\":cum_par/success, \"successfull iterations\":success, \"successful_splits\":splits, \"area_burnt\":burnt/success}\n",
        "        else:\n",
        "          dic[temp_str] = {\"missclassified\": 0, \"parameters\":0, \"successfull iterations\":0, \"successful_splits\":[], \"area_burnt\":0}"
      ],
      "execution_count": 55,
      "outputs": [
        {
          "output_type": "stream",
          "text": [
            "success!\n",
            "success!\n",
            "success!\n",
            "success!\n",
            "success!\n",
            "success!\n",
            "success!\n",
            "success!\n",
            "success!\n",
            "success!\n",
            "success!\n",
            "success!\n",
            "success!\n"
          ],
          "name": "stdout"
        }
      ]
    },
    {
      "cell_type": "code",
      "metadata": {
        "colab": {
          "base_uri": "https://localhost:8080/"
        },
        "id": "kgPthv38krvK",
        "outputId": "2aca73c5-c9c9-4d8b-c22c-4c571ee4499d"
      },
      "source": [
        "missclass"
      ],
      "execution_count": 13,
      "outputs": [
        {
          "output_type": "execute_result",
          "data": {
            "text/plain": [
              "58"
            ]
          },
          "metadata": {
            "tags": []
          },
          "execution_count": 13
        }
      ]
    },
    {
      "cell_type": "code",
      "metadata": {
        "colab": {
          "base_uri": "https://localhost:8080/"
        },
        "id": "_tVePdDesa9h",
        "outputId": "ff974cfb-0d2f-457b-a2ac-eee74e070ea1"
      },
      "source": [
        "len(test_index)"
      ],
      "execution_count": 15,
      "outputs": [
        {
          "output_type": "execute_result",
          "data": {
            "text/plain": [
              "129"
            ]
          },
          "metadata": {
            "tags": []
          },
          "execution_count": 15
        }
      ]
    },
    {
      "cell_type": "code",
      "metadata": {
        "colab": {
          "base_uri": "https://localhost:8080/"
        },
        "id": "IDzqafggsjox",
        "outputId": "dbdaa159-ddd7-439a-b522-c0aaf2480cc7"
      },
      "source": [
        "pred.to_numpy()"
      ],
      "execution_count": 19,
      "outputs": [
        {
          "output_type": "execute_result",
          "data": {
            "text/plain": [
              "array([ True,  True,  True, False,  True,  True, False, False, False,\n",
              "        True, False,  True,  True,  True,  True, False, False, False,\n",
              "        True,  True,  True,  True, False, False,  True,  True,  True,\n",
              "       False,  True, False,  True,  True,  True,  True,  True,  True,\n",
              "        True,  True,  True,  True,  True, False,  True, False,  True,\n",
              "       False,  True,  True,  True,  True,  True,  True,  True,  True,\n",
              "        True,  True, False, False,  True,  True,  True,  True,  True,\n",
              "        True,  True,  True,  True,  True,  True,  True,  True,  True,\n",
              "        True,  True,  True,  True,  True,  True,  True,  True,  True,\n",
              "        True,  True,  True,  True,  True,  True,  True,  True,  True,\n",
              "        True,  True,  True,  True,  True,  True,  True,  True,  True,\n",
              "        True,  True,  True,  True,  True,  True,  True,  True,  True,\n",
              "        True,  True,  True,  True,  True,  True,  True,  True,  True,\n",
              "        True,  True,  True,  True,  True,  True,  True,  True,  True,\n",
              "        True,  True,  True])"
            ]
          },
          "metadata": {
            "tags": []
          },
          "execution_count": 19
        }
      ]
    },
    {
      "cell_type": "code",
      "metadata": {
        "colab": {
          "base_uri": "https://localhost:8080/"
        },
        "id": "DUY4U0WGswBh",
        "outputId": "673fa796-47c5-4f44-9667-9bc0e057b0bb"
      },
      "source": [
        "y[test_index].to_numpy()"
      ],
      "execution_count": 18,
      "outputs": [
        {
          "output_type": "execute_result",
          "data": {
            "text/plain": [
              "array([  0.  ,   0.  ,   0.  ,   0.  ,   0.  ,   0.  ,   0.  ,   0.  ,\n",
              "         0.  ,   0.  ,   0.  ,   0.  ,   0.  ,   0.  ,   0.  ,   0.  ,\n",
              "         0.  ,   0.  ,   0.  ,   0.  ,   0.  ,   0.  ,   0.  ,   0.  ,\n",
              "         0.  ,   0.  ,   0.  ,   0.71,   1.19,   1.56,   1.61,   2.51,\n",
              "         2.53,   2.57,   4.61,   4.88,   6.38,   6.96,   7.3 ,   8.31,\n",
              "         8.71,  13.7 ,  14.57,  31.72,  32.07,  36.85,  37.02,  71.3 ,\n",
              "       105.66, 154.88,   0.76,   1.52,  10.34,   8.02,   0.68,   3.3 ,\n",
              "         0.79,   4.4 ,   9.27,   8.98,  11.19,   5.38,  10.73,   1.1 ,\n",
              "         0.  ,   8.  ,   2.64,   0.  ,   3.52,   0.  ,   0.41,   0.  ,\n",
              "         0.  ,  14.29,   0.  ,   0.  ,   1.58,   2.18,   0.  ,   0.  ,\n",
              "         2.13,   1.47,   2.18,   3.94,   2.93,   0.  ,   0.  ,   0.  ,\n",
              "         0.  ,   0.  , 174.63,  42.87,  28.74,   9.96,  51.78,   4.95,\n",
              "         0.  ,   0.  ,   0.  ,   1.63,   3.05,   0.72,   0.  ,   3.2 ,\n",
              "         0.  ,   0.  ,   0.  ,   0.54,   6.43,   3.35,   0.  ,   0.  ,\n",
              "         3.71,   2.14,   3.18,   0.  ,  38.48,  10.08,   3.19,   1.76,\n",
              "         0.  ,   2.  ,   0.  ,   8.59,   2.77,  40.54,   5.8 ,   0.  ,\n",
              "        11.16])"
            ]
          },
          "metadata": {
            "tags": []
          },
          "execution_count": 18
        }
      ]
    },
    {
      "cell_type": "code",
      "metadata": {
        "colab": {
          "base_uri": "https://localhost:8080/"
        },
        "id": "1Tm-PnFJs30Q",
        "outputId": "a17f6c98-0646-4187-aa23-db0838c7301c"
      },
      "source": [
        "dic"
      ],
      "execution_count": 56,
      "outputs": [
        {
          "output_type": "execute_result",
          "data": {
            "text/plain": [
              "{'R: 0.001 Cut: 0.001': {'area_burnt': 0,\n",
              "  'missclassified': 0,\n",
              "  'parameters': 0,\n",
              "  'successful_splits': [],\n",
              "  'successfull iterations': 0},\n",
              " 'R: 0.001 Cut: 0.50075': {'area_burnt': 0,\n",
              "  'missclassified': 0,\n",
              "  'parameters': 0,\n",
              "  'successful_splits': [],\n",
              "  'successfull iterations': 0},\n",
              " 'R: 0.001 Cut: 1.0005': {'area_burnt': 0,\n",
              "  'missclassified': 0,\n",
              "  'parameters': 0,\n",
              "  'successful_splits': [],\n",
              "  'successfull iterations': 0},\n",
              " 'R: 0.001 Cut: 1.5002499999999999': {'area_burnt': 0,\n",
              "  'missclassified': 0,\n",
              "  'parameters': 0,\n",
              "  'successful_splits': [],\n",
              "  'successfull iterations': 0},\n",
              " 'R: 0.001 Cut: 2.0': {'area_burnt': 0     NaN\n",
              "  3     NaN\n",
              "  21    NaN\n",
              "  24    NaN\n",
              "  30    NaN\n",
              "         ..\n",
              "  493   NaN\n",
              "  495   NaN\n",
              "  504   NaN\n",
              "  507   NaN\n",
              "  513   NaN\n",
              "  Name: area, Length: 109, dtype: float64,\n",
              "  'missclassified': 62.5,\n",
              "  'parameters': array([[ 1.04419135,  0.12465796,  1.00816547,  0.95247006,  0.16845528,\n",
              "           0.12170256,  0.76791772,  1.37811817,  0.83609231, -0.06817323,\n",
              "           0.26046625, -0.01480349,  1.19232756,  1.43425713,  0.09170377,\n",
              "           0.18827441,  0.02310209,  0.25169546,  0.31189027,  0.00751654,\n",
              "           0.46073755,  0.66008495, -0.16394661,  1.03226112,  0.53818927,\n",
              "          -0.54308097, -0.19335513,  0.58651766,  0.04235156,  0.14262459,\n",
              "           0.45511605,  0.71437695,  0.39076436]]),\n",
              "  'successful_splits': [2, 3],\n",
              "  'successfull iterations': 2},\n",
              " 'R: 0.75075 Cut: 0.001': {'area_burnt': 0,\n",
              "  'missclassified': 0,\n",
              "  'parameters': 0,\n",
              "  'successful_splits': [],\n",
              "  'successfull iterations': 0},\n",
              " 'R: 0.75075 Cut: 0.50075': {'area_burnt': 8       0.00\n",
              "  9       0.00\n",
              "  10      0.00\n",
              "  12      0.00\n",
              "  13      0.00\n",
              "         ...  \n",
              "  496    14.68\n",
              "  498    10.82\n",
              "  501     0.00\n",
              "  505     0.00\n",
              "  510     0.00\n",
              "  Name: area, Length: 126, dtype: float64,\n",
              "  'missclassified': 62.0,\n",
              "  'parameters': array([[ 0.84485556,  1.14361665,  0.78351324, -0.11878696,  0.09577053,\n",
              "           0.09875262,  0.5268959 ,  0.67661719,  0.66454462,  0.33133382,\n",
              "           0.58108902,  0.25958658,  0.12627098,  0.32443221,  0.07571192,\n",
              "           0.55614433,  0.42854452,  0.07924967,  0.11562052,  0.39405674,\n",
              "           0.56107569,  1.01290184,  0.2485738 ,  0.12451375,  0.32586876,\n",
              "           0.40383734,  0.91799568,  1.04028175,  0.78207655,  0.03127542,\n",
              "           0.60639595,  1.05377515,  1.46595793]]),\n",
              "  'successful_splits': [1],\n",
              "  'successfull iterations': 1},\n",
              " 'R: 0.75075 Cut: 1.0005': {'area_burnt': 0,\n",
              "  'missclassified': 0,\n",
              "  'parameters': 0,\n",
              "  'successful_splits': [],\n",
              "  'successfull iterations': 0},\n",
              " 'R: 0.75075 Cut: 1.5002499999999999': {'area_burnt': 0,\n",
              "  'missclassified': 0,\n",
              "  'parameters': 0,\n",
              "  'successful_splits': [],\n",
              "  'successfull iterations': 0},\n",
              " 'R: 0.75075 Cut: 2.0': {'area_burnt': 0       0.00\n",
              "  3       0.00\n",
              "  19      0.00\n",
              "  21      0.00\n",
              "  24      0.00\n",
              "         ...  \n",
              "  493     8.59\n",
              "  495     2.77\n",
              "  504     5.80\n",
              "  507     0.00\n",
              "  513    11.16\n",
              "  Name: area, Length: 119, dtype: float64,\n",
              "  'missclassified': 63.0,\n",
              "  'parameters': array([[ 0.35715498,  0.9534082 ,  0.74301   ,  0.29517106,  0.37587199,\n",
              "           0.29984273,  0.69730781, -0.20410463,  0.00243674,  0.09756706,\n",
              "           0.67732681,  0.45703284,  0.36191949, -0.02442741, -0.03650469,\n",
              "           0.02268043,  0.3994859 ,  0.11799337,  0.03093638,  0.01792817,\n",
              "           0.42312284,  0.9912245 ,  0.02961574,  0.60626626,  0.4412737 ,\n",
              "           0.04520564,  0.28482697,  0.53898266,  0.42813679, -0.12401661,\n",
              "          -0.10021859,  0.11263106,  1.31110464]]),\n",
              "  'successful_splits': [2],\n",
              "  'successfull iterations': 1},\n",
              " 'R: 1.5005 Cut: 0.001': {'area_burnt': 0,\n",
              "  'missclassified': 0,\n",
              "  'parameters': 0,\n",
              "  'successful_splits': [],\n",
              "  'successfull iterations': 0},\n",
              " 'R: 1.5005 Cut: 0.50075': {'area_burnt': 6       0.00\n",
              "  7       0.00\n",
              "  11      0.00\n",
              "  23      0.00\n",
              "  25      0.00\n",
              "         ...  \n",
              "  508     2.17\n",
              "  509     0.43\n",
              "  511     6.44\n",
              "  512    54.29\n",
              "  514     0.00\n",
              "  Name: area, Length: 117, dtype: float64,\n",
              "  'missclassified': 63.0,\n",
              "  'parameters': array([[ 0.15986649,  0.97024073,  1.50525237,  0.48493547,  0.09772008,\n",
              "           0.39831059,  0.31724678,  0.43182317,  0.07859774,  0.48409139,\n",
              "           0.64959468,  0.54136353,  0.2363387 ,  0.19638971, -0.40374421,\n",
              "           0.98930028,  0.15800601,  0.3077592 ,  0.47248338,  0.01442828,\n",
              "           0.55670601,  0.35625837, -0.71580006,  0.77432012,  0.40337419,\n",
              "           0.48365146,  0.19543439, -0.03105962,  0.12430192,  0.77416948,\n",
              "           1.05498131,  0.46297877,  0.44447155]]),\n",
              "  'successful_splits': [0],\n",
              "  'successfull iterations': 1},\n",
              " 'R: 1.5005 Cut: 1.0005': {'area_burnt': 0,\n",
              "  'missclassified': 0,\n",
              "  'parameters': 0,\n",
              "  'successful_splits': [],\n",
              "  'successfull iterations': 0},\n",
              " 'R: 1.5005 Cut: 1.5002499999999999': {'area_burnt': 0       0.00\n",
              "  3       0.00\n",
              "  21      0.00\n",
              "  24      0.00\n",
              "  30      0.00\n",
              "         ...  \n",
              "  493     8.59\n",
              "  495     2.77\n",
              "  504     5.80\n",
              "  507     0.00\n",
              "  513    11.16\n",
              "  Name: area, Length: 116, dtype: float64,\n",
              "  'missclassified': 58.0,\n",
              "  'parameters': array([[ 0.70367843,  0.16188446,  0.57836493,  0.15740207,  0.36336187,\n",
              "           0.16440998,  0.89668193,  0.30519872,  0.32805084,  0.18324753,\n",
              "           0.8430052 ,  0.18948233,  0.05871836,  1.74443378,  0.34908922,\n",
              "          -0.04402761,  1.49188688,  0.30905236,  0.29950754,  0.15066377,\n",
              "           0.43883674,  0.85596911,  0.06650738,  1.41736585,  0.10853673,\n",
              "           0.02173001,  0.27428527, -0.31817936,  0.61451081,  0.36621831,\n",
              "           0.15038815,  1.28350159,  0.25640029]]),\n",
              "  'successful_splits': [2],\n",
              "  'successfull iterations': 1},\n",
              " 'R: 1.5005 Cut: 2.0': {'area_burnt': 0,\n",
              "  'missclassified': 0,\n",
              "  'parameters': 0,\n",
              "  'successful_splits': [],\n",
              "  'successfull iterations': 0},\n",
              " 'R: 2.25025 Cut: 0.001': {'area_burnt': 0,\n",
              "  'missclassified': 0,\n",
              "  'parameters': 0,\n",
              "  'successful_splits': [],\n",
              "  'successfull iterations': 0},\n",
              " 'R: 2.25025 Cut: 0.50075': {'area_burnt': 6       0.00\n",
              "  7       0.00\n",
              "  11      0.00\n",
              "  18      0.00\n",
              "  23      0.00\n",
              "         ...  \n",
              "  508     2.17\n",
              "  509     0.43\n",
              "  511     6.44\n",
              "  512    54.29\n",
              "  514     0.00\n",
              "  Name: area, Length: 123, dtype: float64,\n",
              "  'missclassified': 67.0,\n",
              "  'parameters': array([[ 0.38672401,  0.66227674,  0.10719597,  0.64149106,  0.18622333,\n",
              "           0.47318183,  0.17552198, -0.07834539,  0.1101004 ,  0.0711886 ,\n",
              "           0.00210351,  0.3918261 ,  0.51613474,  0.45277107,  0.38608628,\n",
              "           1.1963334 ,  0.4028684 ,  0.02996814,  0.11841789,  0.2078976 ,\n",
              "           0.47565633,  1.01277979,  0.35924609,  0.31167348,  1.10730893,\n",
              "          -0.31406509,  0.4014321 ,  0.2992685 ,  0.87526117,  0.44329987,\n",
              "           0.18519722,  0.35410736,  0.20471061]]),\n",
              "  'successful_splits': [0],\n",
              "  'successfull iterations': 1},\n",
              " 'R: 2.25025 Cut: 1.0005': {'area_burnt': 8       0.00\n",
              "  9       0.00\n",
              "  10      0.00\n",
              "  12      0.00\n",
              "  13      0.00\n",
              "         ...  \n",
              "  496    14.68\n",
              "  498    10.82\n",
              "  501     0.00\n",
              "  505     0.00\n",
              "  510     0.00\n",
              "  Name: area, Length: 123, dtype: float64,\n",
              "  'missclassified': 61.0,\n",
              "  'parameters': array([[ 0.5590728 ,  1.45495237,  0.07856253,  0.11406638,  0.06901072,\n",
              "           0.67853726, -0.02913181,  0.14761241,  0.40980184,  0.45044924,\n",
              "           1.32997499,  0.14482672,  0.50190176,  0.84881596,  0.29879985,\n",
              "           0.04307881,  0.11810432,  0.19697222,  0.06612151,  0.1471941 ,\n",
              "           0.48020397,  0.64969137,  0.03987652,  0.56007828,  1.38328429,\n",
              "           0.13387862,  0.41924261,  0.27501597,  0.6206613 ,  0.50760825,\n",
              "           0.08841928,  0.80311768,  0.12857858]]),\n",
              "  'successful_splits': [1],\n",
              "  'successfull iterations': 1},\n",
              " 'R: 2.25025 Cut: 1.5002499999999999': {'area_burnt': 0,\n",
              "  'missclassified': 0,\n",
              "  'parameters': 0,\n",
              "  'successful_splits': [],\n",
              "  'successfull iterations': 0},\n",
              " 'R: 2.25025 Cut: 2.0': {'area_burnt': 1       0.00\n",
              "  4       0.00\n",
              "  5       0.00\n",
              "  14      0.00\n",
              "  15      0.00\n",
              "         ...  \n",
              "  486    16.40\n",
              "  487    46.70\n",
              "  491     0.00\n",
              "  499     0.00\n",
              "  502     1.95\n",
              "  Name: area, Length: 118, dtype: float64,\n",
              "  'missclassified': 73.0,\n",
              "  'parameters': array([[ 0.46845215,  0.13353185,  0.50374756,  0.15842045,  0.27112106,\n",
              "           0.35300986,  0.84197355,  0.06026336,  0.81454816,  0.00340412,\n",
              "           0.00119326,  0.61348072,  0.00429753,  0.32560803,  0.35968988,\n",
              "           1.04544027,  0.20124171,  0.06086759,  0.02432639,  0.22431426,\n",
              "           0.45181396,  0.89506932, -0.08796342,  0.47506127,  1.02875307,\n",
              "           0.04470813,  0.63811561,  0.98233226,  0.00251999,  0.45419476,\n",
              "           0.28634565,  0.73689548,  1.16920093]]),\n",
              "  'successful_splits': [3],\n",
              "  'successfull iterations': 1},\n",
              " 'R: 3.0 Cut: 0.001': {'area_burnt': 0       0.00\n",
              "  2       0.00\n",
              "  3       0.00\n",
              "  19      0.00\n",
              "  21      0.00\n",
              "         ...  \n",
              "  495     2.77\n",
              "  497    40.54\n",
              "  504     5.80\n",
              "  507     0.00\n",
              "  513    11.16\n",
              "  Name: area, Length: 124, dtype: float64,\n",
              "  'missclassified': 53.0,\n",
              "  'parameters': array([[-0.87862448,  1.97404325, -0.13497517, -0.02130116,  0.5117702 ,\n",
              "           0.25108615,  0.53530561,  2.55351245, -0.22633704, -0.27658311,\n",
              "          -0.8094667 , -0.69106749, -0.39751548, -0.04551013,  0.14003454,\n",
              "           0.8674327 , -0.84412217,  0.11748659,  2.13460362, -0.04497207,\n",
              "           0.948089  ,  0.1993878 , -0.13037691,  1.08104865,  0.81237291,\n",
              "           0.17284016, -0.22081886,  0.19071623, -0.04131854, -0.44709271,\n",
              "          -0.21776269,  2.1094772 , -0.321198  ]]),\n",
              "  'successful_splits': [2],\n",
              "  'successfull iterations': 1},\n",
              " 'R: 3.0 Cut: 0.50075': {'area_burnt': 0,\n",
              "  'missclassified': 0,\n",
              "  'parameters': 0,\n",
              "  'successful_splits': [],\n",
              "  'successfull iterations': 0},\n",
              " 'R: 3.0 Cut: 1.0005': {'area_burnt': 8       0.00\n",
              "  9       0.00\n",
              "  10      0.00\n",
              "  12      0.00\n",
              "  13      0.00\n",
              "         ...  \n",
              "  496    14.68\n",
              "  498    10.82\n",
              "  501     0.00\n",
              "  505     0.00\n",
              "  510     0.00\n",
              "  Name: area, Length: 114, dtype: float64,\n",
              "  'missclassified': 56.0,\n",
              "  'parameters': array([[ 0.09425426,  0.15358488,  0.14300342,  1.94322951,  0.11605437,\n",
              "           0.80226791,  0.10738175,  0.07029594,  0.14531806,  0.39690908,\n",
              "           0.0547255 ,  1.11408851,  0.70218894,  0.12827347,  0.45126381,\n",
              "           0.25693549,  0.59348093,  1.18210427,  0.23155322,  0.53361798,\n",
              "           0.4951322 ,  0.09833719,  0.12499564, -0.24962275,  1.28750076,\n",
              "           0.02766565,  0.11580788, -0.05866233,  0.38728217, -0.60101379,\n",
              "           0.48830209,  0.34225204,  0.08600402]]),\n",
              "  'successful_splits': [1],\n",
              "  'successfull iterations': 1},\n",
              " 'R: 3.0 Cut: 1.5002499999999999': {'area_burnt': 0,\n",
              "  'missclassified': 0,\n",
              "  'parameters': 0,\n",
              "  'successful_splits': [],\n",
              "  'successfull iterations': 0},\n",
              " 'R: 3.0 Cut: 2.0': {'area_burnt': 6     NaN\n",
              "  7     NaN\n",
              "  11    NaN\n",
              "  23    NaN\n",
              "  25    NaN\n",
              "         ..\n",
              "  503   NaN\n",
              "  508   NaN\n",
              "  511   NaN\n",
              "  512   NaN\n",
              "  514   NaN\n",
              "  Name: area, Length: 112, dtype: float64,\n",
              "  'missclassified': 73.0,\n",
              "  'parameters': array([[ 5.69670969e-01,  2.83214411e-01,  1.98340933e-01,\n",
              "           6.89635797e-01,  1.84974248e-01,  3.50608363e-01,\n",
              "           1.77665431e-01,  1.01998221e+00,  8.64391958e-01,\n",
              "           1.88260403e-01,  7.53534445e-01,  6.69268194e-01,\n",
              "           5.05300692e-01,  8.10961294e-01,  9.42130370e-01,\n",
              "           3.73753560e-01,  1.92857007e-01,  1.96059951e-01,\n",
              "           2.80487158e-01,  4.71453026e-01,  4.42897998e-01,\n",
              "           7.99200907e-01, -2.71737326e-01,  7.03106782e-01,\n",
              "           4.81978980e-01, -6.64953404e-04,  3.32270476e-01,\n",
              "           1.24281071e+00,  4.66661039e-01,  6.85320990e-01,\n",
              "           3.07134872e-01,  2.59876170e-01,  1.05154973e+00]]),\n",
              "  'successful_splits': [0, 3],\n",
              "  'successfull iterations': 2}}"
            ]
          },
          "metadata": {
            "tags": []
          },
          "execution_count": 56
        }
      ]
    },
    {
      "cell_type": "code",
      "metadata": {
        "colab": {
          "base_uri": "https://localhost:8080/"
        },
        "id": "aCgPf7k__niP",
        "outputId": "f94ba4e2-6222-43fb-c14f-b61d5547b2a6"
      },
      "source": [
        "w1 = [-0.87862448,  1.97404325, -0.13497517, -0.02130116,  0.5117702 ,\n",
        "           0.25108615,  0.53530561,  2.55351245, -0.22633704, -0.27658311,\n",
        "          -0.8094667 , -0.69106749, -0.39751548, -0.04551013,  0.14003454,\n",
        "           0.8674327 , -0.84412217,  0.11748659,  2.13460362, -0.04497207,\n",
        "           0.948089  ,  0.1993878 , -0.13037691,  1.08104865,  0.81237291,\n",
        "           0.17284016, -0.22081886,  0.19071623, -0.04131854, -0.44709271,\n",
        "          -0.21776269,  2.1094772 , -0.321198]\n",
        "for train_index, test_index in rskf.split(X, y):\n",
        "  pred = ((1-(X.iloc[test_index] @ w1)) < 0)\n",
        "  index = (pred*y.iloc[test_index] > 0)\n",
        "  index2 = (pred*y.iloc[test_index] <= 0)\n",
        "  print(sum(y.iloc[test_index][index]))\n",
        "  print(sum(y.iloc[test_index][index2]))\n",
        "  print(sum(index))\n",
        "  print(sum(index2))"
      ],
      "execution_count": 108,
      "outputs": [
        {
          "output_type": "stream",
          "text": [
            "2332.55\n",
            "0.95\n",
            "58\n",
            "71\n",
            "1530.4900000000005\n",
            "0.0\n",
            "71\n",
            "58\n",
            "1125.2299999999996\n",
            "19.350000000000005\n",
            "71\n",
            "58\n",
            "1633.4800000000005\n",
            "0.0\n",
            "65\n",
            "64\n"
          ],
          "name": "stdout"
        }
      ]
    },
    {
      "cell_type": "code",
      "metadata": {
        "colab": {
          "base_uri": "https://localhost:8080/"
        },
        "id": "COy7RmqOB5Nx",
        "outputId": "2f56343b-572e-4de7-9bc2-be8091caa5bc"
      },
      "source": [
        "w2 = [0.09425426,  0.15358488,  0.14300342,  1.94322951,  0.11605437,\n",
        "           0.80226791,  0.10738175,  0.07029594,  0.14531806,  0.39690908,\n",
        "           0.0547255 ,  1.11408851,  0.70218894,  0.12827347,  0.45126381,\n",
        "           0.25693549,  0.59348093,  1.18210427,  0.23155322,  0.53361798,\n",
        "           0.4951322 ,  0.09833719,  0.12499564, -0.24962275,  1.28750076,\n",
        "           0.02766565,  0.11580788, -0.05866233,  0.38728217, -0.60101379,\n",
        "           0.48830209,  0.34225204,  0.08600402]\n",
        "for train_index, test_index in rskf.split(X, y):\n",
        "  pred = ((1-(X.iloc[test_index] @ w2)) < 0)\n",
        "  index = (pred*y.iloc[test_index] > 0)\n",
        "  index2 = (pred*y.iloc[test_index] <= 0)\n",
        "  print(sum(y.iloc[test_index][index]))\n",
        "  print(sum(y.iloc[test_index][index2]))\n",
        "  print(sum(index))\n",
        "  print(sum(index2))"
      ],
      "execution_count": 106,
      "outputs": [
        {
          "output_type": "stream",
          "text": [
            "2314.89\n",
            "18.610000000000007\n",
            "56\n",
            "73\n",
            "1376.33\n",
            "154.16\n",
            "65\n",
            "64\n",
            "1110.2399999999993\n",
            "34.34000000000002\n",
            "69\n",
            "60\n",
            "1628.8600000000004\n",
            "4.62\n",
            "64\n",
            "65\n"
          ],
          "name": "stdout"
        }
      ]
    },
    {
      "cell_type": "code",
      "metadata": {
        "colab": {
          "base_uri": "https://localhost:8080/"
        },
        "id": "El4wvKz7ZQhX",
        "outputId": "018e19fd-4668-4a13-d739-873d6cfabbad"
      },
      "source": [
        "for train_index, test_index in rskf.split(X, y):\n",
        "  pred = ((1-(X.iloc[test_index] @ ((np.array(w1)+np.array(w2))/2))) < 0)\n",
        "  index = (pred*y.iloc[test_index] > 0)\n",
        "  index2 = (pred*y.iloc[test_index] <= 0)\n",
        "  print(sum(y.iloc[test_index][index]))\n",
        "  print(sum(y.iloc[test_index][index2]))\n",
        "  print(sum(index))\n",
        "  print(sum(index2))"
      ],
      "execution_count": 105,
      "outputs": [
        {
          "output_type": "stream",
          "text": [
            "2314.89\n",
            "18.610000000000007\n",
            "56\n",
            "73\n",
            "1437.46\n",
            "93.02999999999997\n",
            "66\n",
            "63\n",
            "1138.8099999999995\n",
            "5.7700000000000005\n",
            "72\n",
            "57\n",
            "1628.8600000000004\n",
            "4.62\n",
            "64\n",
            "65\n"
          ],
          "name": "stdout"
        }
      ]
    },
    {
      "cell_type": "code",
      "metadata": {
        "id": "M-E7HqUAbBYk"
      },
      "source": [
        "\n"
      ],
      "execution_count": null,
      "outputs": []
    }
  ]
}