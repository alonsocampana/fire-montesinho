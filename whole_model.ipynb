{
 "cells": [
  {
   "cell_type": "code",
   "execution_count": 1,
   "id": "d9d8e92b-5db0-4cee-adf0-f79a47ab4536",
   "metadata": {},
   "outputs": [],
   "source": [
    "import sys\n",
    "sys.path.insert(1, './imports')\n",
    "import pandas as pd\n",
    "import numpy as np\n",
    "from exploratory_analysis import *\n",
    "from preprocessing import *\n",
    "from model_selection import *\n",
    "from model_end_to_end import *\n",
    "from sklearn.ensemble import GradientBoostingRegressor\n",
    "from sklearn.svm import SVC\n",
    "from sklearn.model_selection import KFold\n",
    "from sklearn.preprocessing import PolynomialFeatures"
   ]
  },
  {
   "cell_type": "code",
   "execution_count": 5,
   "id": "ab1a4fc6-f6d2-464d-9982-b4567d3e973a",
   "metadata": {},
   "outputs": [
    {
     "data": {
      "text/plain": [
       "1.4384081903056256"
      ]
     },
     "execution_count": 5,
     "metadata": {},
     "output_type": "execute_result"
    }
   ],
   "source": [
    "fires = pd.read_csv(\"fires.csv\")\n",
    "msinho_area = MontesinhoCompleteModel_evaluator(SVC(kernel = 'rbf', gamma=0.3727, C= 3, class_weight={0:1.3, 1:1}),\n",
    "                                           SVC(kernel='rbf', gamma = 50, C = 10),\n",
    "                                           SVC(C=10.326154432909957, gamma=100.0, kernel='linear'),\n",
    "                                           PolynomialFeatures(degree=3),\n",
    "                                           PolynomialFeatures(degree=1),\n",
    "                                           PolynomialFeatures(degree=3),\n",
    "                                           GradientBoostingRegressor(learning_rate= 0.1875, n_estimators= 20),\n",
    "                                           GradientBoostingRegressor(learning_rate= 0.46, n_estimators= 20),\n",
    "                                           GradientBoostingRegressor(learning_rate= 0.6, n_estimators= 20))\n",
    "msinho_area.fit(fires)\n",
    "msinho_area.average_loss()"
   ]
  },
  {
   "cell_type": "code",
   "execution_count": 6,
   "id": "a519d8ae-3ca2-4812-8899-4089a918cacc",
   "metadata": {},
   "outputs": [
    {
     "data": {
      "text/plain": [
       "1.293909348100353"
      ]
     },
     "execution_count": 6,
     "metadata": {},
     "output_type": "execute_result"
    }
   ],
   "source": [
    "msinho_acc = MontesinhoCompleteModel_evaluator(SVC(kernel = 'rbf', gamma=0.002652859881404326, C= 100, degree=5),\n",
    "                                           SVC(C=8.41850316809234, gamma=0.04349773501643578, kernel='linear'),\n",
    "                                           SVC(C=0.26869573356106563, degree=2, gamma=0.9600363819999834, kernel='poly'),\n",
    "                                           PolynomialFeatures(degree=3),\n",
    "                                           PolynomialFeatures(degree=1),\n",
    "                                           PolynomialFeatures(degree=3),\n",
    "                                           GradientBoostingRegressor(learning_rate= 0.1875, n_estimators= 20),\n",
    "                                           GradientBoostingRegressor(learning_rate= 0.46, n_estimators= 20),\n",
    "                                           GradientBoostingRegressor(learning_rate= 0.6, n_estimators= 20))\n",
    "msinho_acc.fit(fires)\n",
    "msinho_acc.average_loss()"
   ]
  },
  {
   "cell_type": "code",
   "execution_count": 82,
   "id": "d50afd0d-a9c8-458b-bf09-baca7ce381ac",
   "metadata": {},
   "outputs": [],
   "source": [
    "class MontesinhoCompleteModel_evaluator_simple_gbr():\n",
    "    def __init__(self, model, degree):\n",
    "        self.preprocessor = DataPreprocessorPCA()\n",
    "        self.poly = PolynomialFeatures(degree=degree)\n",
    "        self.model = model\n",
    "\n",
    "    def fit(self, data):\n",
    "        self.preprocessor.fit(data)\n",
    "        self.data = self.preprocessor.transform_with_1target()\n",
    "        self.poly.fit(self.data.drop([\"area\"], axis=1))\n",
    "        self.data_poly = self.poly.transform(self.data.drop([\"area\"], axis=1))\n",
    "    def train(self):\n",
    "        X = self.data_poly\n",
    "        y= self.data[\"area\"]\n",
    "        self.model.fit(X, y)\n",
    "    def predict_instance(self, instance):\n",
    "        pass\n",
    "    def evaluate(self):\n",
    "        X = self.data_poly\n",
    "        y= self.data[\"area\"]\n",
    "        rskf = KFold(n_splits=15, shuffle=True,random_state=3558)\n",
    "        losses = []\n",
    "        n=0\n",
    "        for train_index, test_index in rskf.split(X, y):\n",
    "            n += 1\n",
    "            X_train, X_test = X[train_index], X[test_index]\n",
    "            y_train, y_test = y.iloc[train_index], y.iloc[test_index]\n",
    "            self.model.fit(X_train, y_train)\n",
    "            y_pred = self.model.predict(X_test)\n",
    "            losses.append(average_absolute_loss(y_pred, y_test))\n",
    "        return sum(losses)/n\n",
    "    \n",
    "class DataPreprocessorPCA(DataPreprocessor):\n",
    "    \"\"\"\n",
    "        Interface for preprocessing Montesinho data. Includes additional PCA transformation of the numeric continuous variables\n",
    "    \"\"\"\n",
    "    def __init__(self):\n",
    "        self.transformable_cols = ['FFMC', 'DMC', 'DC', 'ISI', 'temp', 'RH','wind']\n",
    "    \n",
    "    def transform_with_2target(self):\n",
    "        month_df = self.month_encoding()\n",
    "        xy_df = self.xy_encoding()\n",
    "        day_df = self.day_encoding()\n",
    "        rain_series = self.rain_transform()\n",
    "        dc_df = self.DC_encoding()\n",
    "        target_df = self.area_split_transform()\n",
    "        numerical_df = pd.DataFrame(self.processor.transform(self.data[self.transformable_cols]), columns = self.transformable_cols)\n",
    "        self.pca_processor = PCA()\n",
    "        self.pca_processor.fit(numerical_df)\n",
    "        pca_mat = self.pca_processor.transform(numerical_df)\n",
    "        numerical_df = pd.DataFrame(pca_mat, columns = ['pc'+str(i) for i in np.arange(1, 8)])        \n",
    "        output = pd.concat([month_df, xy_df, day_df, rain_series, dc_df, numerical_df, target_df], axis=1)\n",
    "        return output\n",
    "    def transform_with_1target(self):\n",
    "        month_df = self.month_encoding()\n",
    "        xy_df = self.xy_encoding()\n",
    "        day_df = self.day_encoding()\n",
    "        rain_series = self.rain_transform()\n",
    "        dc_df = self.DC_encoding()\n",
    "        target_df = self.area_split_transform()\n",
    "        target_df = target_df[[\"area\"]]\n",
    "        numerical_df = pd.DataFrame(self.processor.transform(self.data[self.transformable_cols]), columns = self.transformable_cols)\n",
    "        self.pca_processor = PCA()\n",
    "        self.pca_processor.fit(numerical_df)\n",
    "        pca_mat = self.pca_processor.transform(numerical_df)\n",
    "        numerical_df = pd.DataFrame(pca_mat, columns = ['pc'+str(i) for i in np.arange(1, 8)])        \n",
    "        output = pd.concat([month_df, xy_df, day_df, rain_series, dc_df, numerical_df, target_df], axis=1)\n",
    "        return output\n",
    "    def transform_single_instance(self, instance):\n",
    "#         instance_df = pd.DataFrame(instance)\n",
    "#         self.pca_processor = PCA()\n",
    "#         self.pca_processor.fit(instance_df[self.transformable_cols])\n",
    "#         pca_mat = self.pca_processor.transform(numerical_df)\n",
    "#         numerical_df = pd.DataFrame(pca_mat, columns = ['pc'+str(i) for i in np.arange(1, 8)])        \n",
    "#         output = pd.concat([month_df, xy_df, day_df, rain_series, dc_df, numerical_df, target_df], axis=1)\n",
    "        return output\n",
    "        "
   ]
  },
  {
   "cell_type": "code",
   "execution_count": 71,
   "id": "5c7573be-676f-4f29-81cc-76652e5c2c8b",
   "metadata": {},
   "outputs": [
    {
     "data": {
      "text/plain": [
       "1.1688254625573125"
      ]
     },
     "execution_count": 71,
     "metadata": {},
     "output_type": "execute_result"
    }
   ],
   "source": [
    "montesinho_gbr = MontesinhoCompleteModel_evaluator_simple_gbr(GradientBoostingRegressor(learning_rate= 0.05, n_estimators= 100), 1)\n",
    "montesinho_gbr.fit(fires)\n",
    "montesinho_gbr.evaluate()"
   ]
  },
  {
   "cell_type": "code",
   "execution_count": 85,
   "id": "9e2c0a76-2c0c-4509-9852-099b19921f32",
   "metadata": {},
   "outputs": [
    {
     "data": {
      "text/plain": [
       "1.185898899196142"
      ]
     },
     "execution_count": 85,
     "metadata": {},
     "output_type": "execute_result"
    }
   ],
   "source": [
    "montesinho_rfr = MontesinhoCompleteModel_evaluator_simple_gbr(RandomForestRegressor(criterion = \"mse\", n_estimators= 100), 1)\n",
    "montesinho_rfr.fit(fires)\n",
    "montesinho_rfr.evaluate()"
   ]
  },
  {
   "cell_type": "code",
   "execution_count": null,
   "id": "b1b8d12e-27f1-40c2-9bca-37e34f799856",
   "metadata": {},
   "outputs": [],
   "source": []
  }
 ],
 "metadata": {
  "kernelspec": {
   "display_name": "Python 3",
   "language": "python",
   "name": "python3"
  },
  "language_info": {
   "codemirror_mode": {
    "name": "ipython",
    "version": 3
   },
   "file_extension": ".py",
   "mimetype": "text/x-python",
   "name": "python",
   "nbconvert_exporter": "python",
   "pygments_lexer": "ipython3",
   "version": "3.8.10"
  }
 },
 "nbformat": 4,
 "nbformat_minor": 5
}
