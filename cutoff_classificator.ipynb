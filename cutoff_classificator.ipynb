{
 "cells": [
  {
   "cell_type": "code",
   "execution_count": 151,
   "id": "2fccb137-8ba9-4d3c-a4bf-d3e9422ccf31",
   "metadata": {},
   "outputs": [
    {
     "data": {
      "text/plain": [
       " final_simplex: (array([[0.00322315, 0.27049142, 0.81317686, ..., 0.77101526, 0.52187726,\n",
       "        0.93075913],\n",
       "       [0.00322298, 0.27049051, 0.81318341, ..., 0.77101332, 0.52187832,\n",
       "        0.93075055],\n",
       "       [0.00322305, 0.27048785, 0.81318714, ..., 0.77100681, 0.52187771,\n",
       "        0.93072858],\n",
       "       ...,\n",
       "       [0.003223  , 0.27048769, 0.81318171, ..., 0.77100332, 0.52187649,\n",
       "        0.93073082],\n",
       "       [0.00322304, 0.27049215, 0.81317282, ..., 0.77101208, 0.52187752,\n",
       "        0.93076464],\n",
       "       [0.00322295, 0.27049102, 0.81317762, ..., 0.77100963, 0.52187797,\n",
       "        0.93075508]]), array([125.8919428 , 125.8919556 , 125.8919565 , 125.8919597 ,\n",
       "       125.89196593, 125.89196852, 125.89197003, 125.89197436,\n",
       "       125.89198091, 125.89198366, 125.89198411, 125.89198428,\n",
       "       125.89198864, 125.8919887 , 125.89198917, 125.89199658,\n",
       "       125.89199888, 125.89199893, 125.89200175, 125.89200406,\n",
       "       125.89200414, 125.89200645, 125.89201083, 125.89201123,\n",
       "       125.89201132, 125.89201288, 125.89201319, 125.89201358,\n",
       "       125.89201842, 125.89202065, 125.89202276, 125.89203405,\n",
       "       125.89203515, 125.89203535, 125.89203637]))\n",
       "           fun: 125.8919428020418\n",
       "       message: 'Optimization terminated successfully.'\n",
       "          nfev: 6319\n",
       "           nit: 5062\n",
       "        status: 0\n",
       "       success: True\n",
       "             x: array([ 0.00322315,  0.27049142,  0.81317686,  0.25891973,  0.46838279,\n",
       "        0.43703944,  0.25834756,  0.61129018,  0.13451186,  0.11451814,\n",
       "        0.03167031,  0.21261865, -0.46339581, -0.05297954,  0.60704822,\n",
       "        0.92383392,  0.05269001,  0.32568387,  0.09451929, -0.07845529,\n",
       "        0.09921569,  0.18505701,  0.69258364,  0.8411936 ,  0.50037871,\n",
       "        0.41329365,  0.91072145,  0.75318558,  0.04080461,  0.47482101,\n",
       "        0.22131864,  0.77101526,  0.52187726,  0.93075913])"
      ]
     },
     "execution_count": 151,
     "metadata": {},
     "output_type": "execute_result"
    }
   ],
   "source": [
    "import pandas as pd\n",
    "import numpy as np\n",
    "from scipy.optimize import minimize\n",
    "from sklearn.model_selection import KFold\n",
    "\n",
    "fires = pd.read_csv(\"fire_data_processed_after_pca.csv\")\n",
    "X = fires\n",
    "cut = 1\n",
    "y = np.exp(X.loc[:,\"area\"]) - 1 - cut\n",
    "X = X.drop([\"area\", \"area_bool\"], axis=1)\n",
    "feat_drop = ['apr_bool', '66', '73', '65', '74', '64', '75', '95', '63', '99', '84', '55', '13', 'aug_bool', '76', '43', '44', '85', 'rain', '94', 'oct_bool', '45', '33', 'nov_bool', 'feb_bool', '23',\n",
    " 'wed', 'mar_bool', 'fri', 'jun_bool', '14', 'tue', '24', '88', '46', 'sat']\n",
    "\n",
    "features_added = [[\"22\",\"sat\"], [\"wed\",\"pc5\"], [\"tue\",\"pc2\"], [\"94\", \"pc6\"], ['sep_bool','pc4']]\n",
    "  \n",
    "\n",
    "def add_feature(df, col1, col2):\n",
    "    df = df.copy()\n",
    "    new_name = col1 + \" * \" + col2\n",
    "    map_names = {\"col_name\":new_name}\n",
    "    return (df.assign(col_name = df.loc[:,col1] * df.loc[:,col2])).rename(map_names, axis=1)\n",
    "\n",
    "def l2(theta):\n",
    "    return theta@theta.T\n",
    "\n",
    "def exp_loss(weights, X, y):\n",
    "    return sum(np.exp(-y*(X@weights.T)))\n",
    "\n",
    "def hinge_loss(weights, X, y):\n",
    "    loss = (-(weights@X.T)+1) * y\n",
    "    loss[loss<0] = 0\n",
    "    return np.sum(loss)\n",
    "\n",
    "def objective(X, y, weights, lambd =0.5, loss = exp_loss, regularizer=l2):\n",
    "    return loss(weights, X, y) + lambd*regularizer(weights)\n",
    "\n",
    "for feat in features_added:\n",
    "    X = add_feature(X, feat[0], feat[1])\n",
    "X = X.drop(feat_drop, axis=1)\n",
    "\n",
    "regs = np.linspace(0.001, 3, 5)\n",
    "cutoffs = np.linpsace(0.001, 2, 5)\n",
    "rskf = KFold(n_splits=4, shuffle=True,random_state=3558)\n",
    "dic = {}\n",
    "for r in regs:\n",
    "    for c in cutoffs:\n",
    "        success = 0\n",
    "        missclass = 0\n",
    "        cum_par = np.zeros(1, X.shape[1])\n",
    "        for train_index, test_index in rskf.split(X, y):\n",
    "            X_train, X_test = X[train_index], X[test_index]\n",
    "            y_train, y_test = y.iloc[train_index], y.iloc[test_index]\n",
    "            x0 = np.random.rand(1, X_train.shape[1])\n",
    "            res = minimize(lambda weights: objective(X_train, y_train, weights, loss=hinge_loss), x0 = x0, method = 'Nelder-Mead')\n",
    "            if res.success:\n",
    "                success += 1\n",
    "                pred = ((1-(X_test @ res.x)) < 0)\n",
    "                missclass += sum(pred* y_test <0)\n",
    "                cum_par += res.x\n",
    "        temp_str = str(r) + str(c)\n",
    "        dic[temp_str] = {\"missclassified\": missclass/sucess, \"parameters\":cum_par/success, \"successfull iterations\":success}"
   ]
  },
  {
   "cell_type": "code",
   "execution_count": 166,
   "id": "2ef60ff4-9bf7-4f3b-8e52-3239ff72bfad",
   "metadata": {},
   "outputs": [],
   "source": [
    "weights = [0.00322315,  0.27049142,  0.81317686,  0.25891973,  0.46838279,\n",
    "        0.43703944,  0.25834756,  0.61129018,  0.13451186,  0.11451814,\n",
    "        0.03167031,  0.21261865, -0.46339581, -0.05297954,  0.60704822,\n",
    "        0.92383392,  0.05269001,  0.32568387,  0.09451929, -0.07845529,\n",
    "        0.09921569,  0.18505701,  0.69258364,  0.8411936 ,  0.50037871,\n",
    "        0.41329365,  0.91072145,  0.75318558,  0.04080461,  0.47482101,\n",
    "        0.22131864,  0.77101526,  0.52187726,  0.93075913]\n",
    "pred = ((1-(X @ weights)) < 0)"
   ]
  },
  {
   "cell_type": "code",
   "execution_count": 170,
   "id": "5514ba21-b093-41b8-87b0-71aa755aeb70",
   "metadata": {},
   "outputs": [
    {
     "data": {
      "text/plain": [
       "181"
      ]
     },
     "execution_count": 170,
     "metadata": {},
     "output_type": "execute_result"
    }
   ],
   "source": [
    "sum(pred* y <0)"
   ]
  },
  {
   "cell_type": "code",
   "execution_count": 171,
   "id": "64ccae75-9a95-43f0-babb-a3b0ced63378",
   "metadata": {},
   "outputs": [],
   "source": [
    "x0 = np.random.rand(1, X.shape[1])\n",
    "res = minimize(lambda weights: objective(X, y, weights, loss=hinge_loss), x0 = x0, method = 'Nelder-Mead')"
   ]
  },
  {
   "cell_type": "code",
   "execution_count": 197,
   "id": "fbb273d7-d165-4073-a017-9d8e0e506c40",
   "metadata": {},
   "outputs": [
    {
     "data": {
      "text/plain": [
       "509"
      ]
     },
     "execution_count": 197,
     "metadata": {},
     "output_type": "execute_result"
    }
   ],
   "source": [
    "w = [0.00528337,  0.50690796,  0.27307986,  0.26020999,  0.82160399,\n",
    "          -0.04517859,  0.26659104,  0.96187361,  0.04980793,  0.65898698,\n",
    "           0.44550089,  0.58260576,  0.59906079,  0.04932569,  1.11683321,\n",
    "           0.01732238,  0.11639177,  0.19671073,  0.08213164,  0.11132968,\n",
    "           0.34619528,  0.04484096,  0.03340923,  0.02910226,  0.2251468 ,\n",
    "           0.34634532,  0.81110492,  0.63381886,  0.09352773,  0.39075299,\n",
    "           1.09733269,  0.63982484,  1.35402455,  0.33949129]\n",
    "\n",
    "pred = ((1-(X @ w[1:])) < 0)\n",
    "sum(pred* y <=0)"
   ]
  },
  {
   "cell_type": "code",
   "execution_count": 174,
   "id": "f1dca9de-847e-43f9-9f5a-cbfd758d39f5",
   "metadata": {},
   "outputs": [
    {
     "data": {
      "text/plain": [
       "False"
      ]
     },
     "execution_count": 174,
     "metadata": {},
     "output_type": "execute_result"
    }
   ],
   "source": [
    "res.success"
   ]
  },
  {
   "cell_type": "raw",
   "id": "b9c852b1-96a1-4784-9632-d9b047233423",
   "metadata": {},
   "source": [
    "fires = pd.read_csv(\"fire_data_processed_after_pca.csv\")\n",
    "X = fires\n",
    "cut = 1\n",
    "y = np.exp(X.loc[:,\"area\"]) - 1 - cut\n",
    "X = X.drop([\"Unnamed: 0\", \"area\", \"area_bool\"], axis=1)\n",
    "X = X.drop([\"Unnamed: 0\"], axis=1)"
   ]
  },
  {
   "cell_type": "code",
   "execution_count": 188,
   "id": "5393aace-199d-4fb3-95b6-666e1db4495c",
   "metadata": {},
   "outputs": [],
   "source": [
    "X = X.drop([\"Unnamed: 0\"], axis=1)"
   ]
  }
 ],
 "metadata": {
  "kernelspec": {
   "display_name": "Python 3",
   "language": "python",
   "name": "python3"
  },
  "language_info": {
   "codemirror_mode": {
    "name": "ipython",
    "version": 3
   },
   "file_extension": ".py",
   "mimetype": "text/x-python",
   "name": "python",
   "nbconvert_exporter": "python",
   "pygments_lexer": "ipython3",
   "version": "3.8.10"
  }
 },
 "nbformat": 4,
 "nbformat_minor": 5
}
